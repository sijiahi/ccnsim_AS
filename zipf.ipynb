{
 "cells": [
  {
   "cell_type": "code",
   "execution_count": 1,
   "id": "b7aca97d-ef04-4e3f-b4ab-713cec02f668",
   "metadata": {},
   "outputs": [],
   "source": [
    "import random\n",
    "import matplotlib.pyplot\n",
    "import numpy\n",
    "import scipy.special\n",
    "import matplotlib.pyplot as plt\n",
    "import numpy as np\n",
    "from random import shuffle"
   ]
  },
  {
   "cell_type": "markdown",
   "id": "9249ac38-0f65-4568-9a03-39b34201f6fb",
   "metadata": {},
   "source": [
    "# zipf distribution Generator"
   ]
  },
  {
   "cell_type": "code",
   "execution_count": 2,
   "id": "1ea1e5e9-5ccc-4d7f-b42c-94f96b56c680",
   "metadata": {},
   "outputs": [],
   "source": [
    "class zipf_generator:\n",
    "    def __init__(self,alpha = 1, number = 1000):\n",
    "        self.alpha = alpha\n",
    "        self.number = number\n",
    "    def reset(self, alpha = 1, number = 1000):\n",
    "        self.alpha = alpha\n",
    "        self.number = number\n",
    "    def calculateSum(self):\n",
    "        self.numbers = [i for i in range(1,self.number+1)]\n",
    "        self.numbers_prob = [(float(1/i)**self.alpha) for i in self.numbers]\n",
    "        self.sum = sum(self.numbers_prob)\n",
    "    def generate(self):\n",
    "        self.calculateSum()\n",
    "        zipf_dis = np.array(self.numbers_prob)/self.sum\n",
    "        return self.numbers,zipf_dis\n",
    "        #plt.plot(self.numbers,self.zipf)"
   ]
  },
  {
   "cell_type": "markdown",
   "id": "0b3f382f-5b93-4d2d-b486-fc821c81aa03",
   "metadata": {},
   "source": [
    "numOfContent = 100\n",
    "zipf = zipf_generator(alpha = 1,number = numOfContent)\n",
    "numbers, zipf1 = zipf.generate()\n",
    "zipf.reset(alpha = 0.9, number = numOfContent)\n",
    "*_,zipf2 = zipf.generate()\n",
    "zipf.reset(alpha = 0.7,number = numOfContent)\n",
    "*_,zipf3 = zipf.generate()\n",
    "zipf.reset(alpha = 0.5, number = numOfContent)\n",
    "*_,zipf4 = zipf.generate()"
   ]
  },
  {
   "cell_type": "code",
   "execution_count": 3,
   "id": "6aea92a5-7a68-4aee-82f5-1e609e423920",
   "metadata": {},
   "outputs": [],
   "source": [
    "def toMassFunc(prob):\n",
    "    ret = [prob[0]]\n",
    "    for i in range(1,len(prob)):\n",
    "        ret.append(ret[-1]+prob[i])\n",
    "    return ret"
   ]
  },
  {
   "cell_type": "markdown",
   "id": "3f67d6ea-ac14-4198-bb7e-d5cf4404579c",
   "metadata": {},
   "source": [
    "plt.figure(num=4,figsize=(8,5))\n",
    "plt.plot([0]+numbers,np.insert(zipf1,0,0),label = 'alpha = 1')\n",
    "plt.plot([0]+numbers,np.insert(zipf2,0,0), label = 'alpha = 0.9')\n",
    "plt.plot([0]+numbers,np.insert(zipf3,0,0),label = 'alpha = 0.7')\n",
    "plt.plot([0]+numbers,np.insert(zipf4,0,0),label = 'alpha = 0.5')\n",
    "plt.legend(title = 'zipf parameter :')\n",
    "plt.title('Zipf distribution')\n",
    "plt.show()"
   ]
  },
  {
   "cell_type": "markdown",
   "id": "ea601485-8302-4a1f-917b-297fa04bb328",
   "metadata": {},
   "source": [
    "zipf1 = toMassFunc(zipf1)\n",
    "zipf2 = toMassFunc(zipf2)\n",
    "zipf3 = toMassFunc(zipf3)\n",
    "zipf4 = toMassFunc(zipf4)"
   ]
  },
  {
   "cell_type": "markdown",
   "id": "dcaf9aa6-91e1-45dc-ba1f-fcac8fb94998",
   "metadata": {},
   "source": [
    "plt.figure(num=4,figsize=(8,5))\n",
    "plt.plot([0]+numbers,np.insert(zipf1,0,0),color = 'yellow',linewidth = 1, marker = 'o', linestyle = 'solid',label = 'alpha = 1')\n",
    "plt.plot([0]+numbers,np.insert(zipf2,0,0),color='red',linewidth = 1, marker = 'P', linestyle = 'dashed',label = 'alpha = 0.9')\n",
    "plt.plot([0]+numbers,np.insert(zipf3,0,0),color='green',linewidth = 1, marker = '*', linestyle = 'dotted',label = 'alpha = 0.7')\n",
    "plt.plot([0]+numbers,np.insert(zipf4,0,0),color='blue',linewidth = 1, marker = '^', linestyle = 'dashdot',label = 'alpha = 0.5')\n",
    "plt.legend(title = 'zipf parameter :')\n",
    "plt.title('Zipf distribution')\n",
    "plt.show()"
   ]
  },
  {
   "cell_type": "code",
   "execution_count": 4,
   "id": "7cda4330-cd20-4f31-987e-1308fccc499f",
   "metadata": {},
   "outputs": [],
   "source": [
    "def gen_zipf_requests(alpha = 1,number_of_content = 100, number_of_request = 1000):\n",
    "    zipf_gen = zipf_generator(alpha = alpha,number = number_of_content)\n",
    "    contents, zipf_distrib = zipf_gen.generate()\n",
    "    assert len(zipf_distrib) == number_of_content\n",
    "    #number_of_content = len(zipf)\n",
    "    req = []\n",
    "    pattern = {}\n",
    "    for i,content in enumerate(contents):\n",
    "        req+=([str(content)]*int(round(number_of_request*zipf_distrib[i],0)))\n",
    "        pattern[content] = int(round(number_of_request*zipf_distrib[i],0))\n",
    "    shuffle(req)\n",
    "    return req, pattern"
   ]
  },
  {
   "cell_type": "code",
   "execution_count": 5,
   "id": "ecd852e7-15c8-48c1-8755-ee11be92771a",
   "metadata": {},
   "outputs": [],
   "source": [
    "def gen_biased_zipf_requests(alpha = 1,number_of_content = 100, number_of_request = 1000, offset = 0):\n",
    "    zipf_gen = zipf_generator(alpha = alpha,number = number_of_content)\n",
    "    contents, zipf_distrib = zipf_gen.generate()\n",
    "    assert len(zipf_distrib) == number_of_content\n",
    "    #number_of_content = len(zipf)\n",
    "    req = []\n",
    "    pattern = {}\n",
    "    for i,content in enumerate(contents):\n",
    "        req+=([(content+offset)%number_of_content]*int(round(number_of_request*zipf_distrib[i],0)))\n",
    "        pattern[(content+offset)%number_of_content] = int(round(number_of_request*zipf_distrib[i],0))\n",
    "    shuffle(req)\n",
    "    pattern = dict(sorted(pattern.items(), key = lambda item: item[0]))\n",
    "    return req, pattern"
   ]
  },
  {
   "cell_type": "code",
   "execution_count": 31,
   "id": "0ffa397f-3bf5-4799-8e47-27d049c915b1",
   "metadata": {},
   "outputs": [],
   "source": [
    "def gen_bilateral_biased_zipf_requests(alpha = 1,number_of_content = 100, number_of_request = 1000, offset = 0):\n",
    "    zipf_gen = zipf_generator(alpha = alpha,number = number_of_content//2)\n",
    "    \n",
    "    contents, zipf_distrib = zipf_gen.generate()\n",
    "    assert len(zipf_distrib) == number_of_content//2\n",
    "    #number_of_content = len(zipf)\n",
    "    req = []\n",
    "    pattern = {}\n",
    "    for i,content in enumerate(contents):\n",
    "        req+=([(content+offset+number_of_content//2)%number_of_content]*int(round(number_of_request*zipf_distrib[i],0)))\n",
    "        req+=([(-content+1+offset+number_of_content//2)%number_of_content]*int(round(number_of_request*zipf_distrib[i],0)))\n",
    "        pattern[(content+offset+number_of_content//2)%number_of_content] = int(round(number_of_request*zipf_distrib[i],0))\n",
    "        pattern[(-content+1+offset+number_of_content//2)%number_of_content] = int(round(number_of_request*zipf_distrib[i],0))\n",
    "    shuffle(req)\n",
    "    pattern = dict(sorted(pattern.items(), key = lambda item: item[0]))\n",
    "    return req, pattern"
   ]
  },
  {
   "cell_type": "markdown",
   "id": "aa76bac5-34b8-4b5e-976b-4ea5582b84ab",
   "metadata": {},
   "source": [
    "# This is to give an API for request generating"
   ]
  },
  {
   "cell_type": "markdown",
   "id": "397f6b0f-0627-47a1-8243-afac8c695276",
   "metadata": {},
   "source": [
    "req_10000, pattern = gen_bilateral_biased_zipf_requests(alpha = 1,number_of_content = 100, number_of_request = 1000, offset = 0)\n",
    "plt.plot(pattern.keys(), pattern.values())\n",
    "plt.title('request pattern')\n",
    "plt.show()"
   ]
  },
  {
   "cell_type": "code",
   "execution_count": null,
   "id": "7e0dc29b-cdc2-40a7-9740-07e32195b18f",
   "metadata": {},
   "outputs": [],
   "source": []
  },
  {
   "cell_type": "code",
   "execution_count": null,
   "id": "8711d056-7aff-4bd0-b444-9ab8070385c4",
   "metadata": {},
   "outputs": [],
   "source": []
  }
 ],
 "metadata": {
  "kernelspec": {
   "display_name": "Python 3",
   "language": "python",
   "name": "python3"
  },
  "language_info": {
   "codemirror_mode": {
    "name": "ipython",
    "version": 3
   },
   "file_extension": ".py",
   "mimetype": "text/x-python",
   "name": "python",
   "nbconvert_exporter": "python",
   "pygments_lexer": "ipython3",
   "version": "3.8.8"
  }
 },
 "nbformat": 4,
 "nbformat_minor": 5
}
