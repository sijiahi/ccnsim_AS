{
 "cells": [
  {
   "cell_type": "code",
   "execution_count": null,
   "id": "saved-comedy",
   "metadata": {},
   "outputs": [],
   "source": [
    "#\n",
    "from cache_manager import CacheManager\n",
    "# 加上时间间隙进行请求收集\n",
    "class ASPopBased(CacheManager):\n",
    "    ASPop_THRESHOLD = 10\n",
    "    RESET_VALUE = 0\n",
    "    \n",
    "    def _init_strategy(self):\n",
    "        self.pop = {}\n",
    "        for node in self.topology.nodes():\n",
    "            self.pop[node] = {}\n",
    "    def \n",
    "    def retrieve_from_caches(self, interest, path):\n",
    "        content_found_caches = False\n",
    "\n",
    "        for i in range(0, len(path)):\n",
    "            p = path[i]\n",
    "\n",
    "            try:\n",
    "                self.mpc[p][interest]+=1\n",
    "            except:\n",
    "                self.mpc[p][interest] = 1\n",
    "\n",
    "            if self.caches[p].lookup(interest):\n",
    "                content_found_caches = True\n",
    "                self.stats.hit()\n",
    "                break\n",
    "            else:\n",
    "                self.stats.miss()\n",
    "\n",
    "        if not content_found_caches:\n",
    "            self.store_cache(path[len(path)-1], interest)\n",
    "        if content_found_caches and self.mpc[p][interest] >= self.ASPop_THRESHOLD:\n",
    "\n",
    "            neighbors = self.topology_manager.topology.neighbors(p)\n",
    "            for n in neighbors:\n",
    "                if self.topology_manager.has_caching_capabilities(n):\n",
    "                    self.store_cache(n, interest)\n",
    "            self.mpc[p][interest] = self.RESET_VALUE\n",
    "                \n",
    "        return (content_found_caches, i)\n"
   ]
  }
 ],
 "metadata": {
  "kernelspec": {
   "display_name": "Python 3",
   "language": "python",
   "name": "python3"
  },
  "language_info": {
   "codemirror_mode": {
    "name": "ipython",
    "version": 3
   },
   "file_extension": ".py",
   "mimetype": "text/x-python",
   "name": "python",
   "nbconvert_exporter": "python",
   "pygments_lexer": "ipython3",
   "version": "3.8.6"
  }
 },
 "nbformat": 4,
 "nbformat_minor": 5
}
