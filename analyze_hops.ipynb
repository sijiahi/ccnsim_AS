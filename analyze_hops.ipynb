{
 "cells": [
  {
   "cell_type": "markdown",
   "id": "48937450-50ff-4d73-9ee1-06d0a678368b",
   "metadata": {},
   "source": [
    "# import neccesary packages"
   ]
  },
  {
   "cell_type": "code",
   "execution_count": 1,
   "id": "fd382db8-7c51-4236-9ca5-1aa0878c436a",
   "metadata": {},
   "outputs": [],
   "source": [
    "import pickle\n",
    "from statistics import mean\n",
    "import matplotlib.pyplot as plt\n",
    "import os"
   ]
  },
  {
   "cell_type": "code",
   "execution_count": 2,
   "id": "e9157e9c-1b70-4151-a1d5-f54304349742",
   "metadata": {},
   "outputs": [],
   "source": [
    "file_names = ['result_POP.pickle','result_MPC.pickle','result_LCE.pickle','result_LCD.pickle']"
   ]
  },
  {
   "cell_type": "code",
   "execution_count": 3,
   "id": "786ccb25-2c59-462b-b598-f6c808e76cc1",
   "metadata": {},
   "outputs": [],
   "source": [
    "os.chdir('..')"
   ]
  },
  {
   "cell_type": "code",
   "execution_count": 4,
   "id": "ff529cca-ad1e-4ad9-83ed-71015c76e64d",
   "metadata": {},
   "outputs": [
    {
     "data": {
      "text/plain": [
       "'/Users/sijiazhang/jupyter_notebook'"
      ]
     },
     "execution_count": 4,
     "metadata": {},
     "output_type": "execute_result"
    }
   ],
   "source": [
    "os.getcwd()"
   ]
  },
  {
   "cell_type": "markdown",
   "id": "3db5b06d-6055-41c8-a279-19d3c01450a7",
   "metadata": {},
   "source": [
    "# 😯 Load variables"
   ]
  },
  {
   "cell_type": "code",
   "execution_count": 3,
   "id": "4bd67346-1b7f-41c0-a789-baf7abb0e5b0",
   "metadata": {},
   "outputs": [],
   "source": [
    "result = {}\n",
    "if not os.path.exists('result'):\n",
    "    os.mkdir('result')\n",
    "os.chdir('result/')\n",
    "if not os.path.exists('hops'):\n",
    "    os.mkdir('hops')\n",
    "os.chdir('hops')\n",
    "for file_name in file_names:\n",
    "    f = open(file_name, 'rb')\n",
    "    result[file_name] = pickle.load(f)\n",
    "    f.close()\n",
    "\n",
    "os.chdir('..')\n",
    "os.chdir('..')"
   ]
  },
  {
   "cell_type": "markdown",
   "id": "05bc886c-23dd-426a-9305-d7e1e4564d5f",
   "metadata": {},
   "source": [
    "# Let's see the result of "
   ]
  },
  {
   "cell_type": "code",
   "execution_count": 4,
   "id": "6f54fd1a-058c-4d3f-8128-76e23a7376de",
   "metadata": {},
   "outputs": [
    {
     "data": {
      "text/plain": [
       "{'result_POP.pickle': {5: [11014,\n",
       "   10664,\n",
       "   10873,\n",
       "   9493,\n",
       "   9834,\n",
       "   10061,\n",
       "   11024,\n",
       "   11500,\n",
       "   11271,\n",
       "   10284],\n",
       "  10: [9969, 9659, 9919, 8853, 8727, 8486, 8575, 8544, 8344, 8572],\n",
       "  16: [9076, 9185, 8945, 8157, 7964, 7998, 7668, 7667, 7679, 7829],\n",
       "  20: [8940, 8764, 8671, 7855, 7735, 7600, 7679, 7469, 7327, 7342],\n",
       "  26: [8366, 8163, 7949, 7467, 7250, 7242, 7253, 7236, 7220, 6957],\n",
       "  30: [8115, 7700, 7737, 7168, 6977, 6973, 6944, 6942, 6874, 6956],\n",
       "  35: [7741, 7098, 7231, 6868, 6950, 6753, 6550, 6640, 6564, 6696]},\n",
       " 'result_MPC.pickle': {5: [11674,\n",
       "   11448,\n",
       "   11152,\n",
       "   10389,\n",
       "   10526,\n",
       "   10155,\n",
       "   10313,\n",
       "   10691,\n",
       "   10469,\n",
       "   10475],\n",
       "  10: [10939, 9870, 9760, 9828, 9774, 9507, 9679, 9679, 9587, 9506],\n",
       "  15: [10684, 9959, 9179, 9115, 9135, 8897, 8952, 8965, 9041, 9081],\n",
       "  20: [10754, 9560, 9355, 9050, 8796, 8594, 8878, 8660, 8719, 8640],\n",
       "  25: [10247, 9271, 9075, 8844, 8438, 8258, 8597, 8427, 8406, 8423],\n",
       "  30: [10412, 9565, 8997, 8662, 8491, 8466, 8166, 8147, 8345, 8000],\n",
       "  35: [9957, 8958, 8542, 8242, 8230, 8003, 8016, 7956, 7836, 7794]},\n",
       " 'result_LCE.pickle': {5: [11179,\n",
       "   11173,\n",
       "   11141,\n",
       "   11098,\n",
       "   11031,\n",
       "   11031,\n",
       "   11039,\n",
       "   11039,\n",
       "   11157,\n",
       "   11144],\n",
       "  10: [10615, 10848, 10745, 10790, 10820, 10756, 10706, 10666, 10845, 10739],\n",
       "  15: [10407, 10395, 10319, 10478, 10261, 10302, 10419, 10446, 10283, 10382],\n",
       "  20: [10021, 10151, 10256, 9946, 10021, 10081, 10049, 10138, 10070, 9961],\n",
       "  25: [10022, 9674, 9823, 9931, 9794, 9709, 9742, 9931, 9673, 9777],\n",
       "  30: [9685, 9644, 9407, 9549, 9596, 9535, 9603, 9691, 9684, 9790],\n",
       "  35: [9471, 9318, 9350, 9406, 9286, 9214, 9522, 9488, 9315, 9473]},\n",
       " 'result_LCD.pickle': {5: [10603,\n",
       "   10410,\n",
       "   10320,\n",
       "   10251,\n",
       "   10302,\n",
       "   10063,\n",
       "   10233,\n",
       "   10317,\n",
       "   10240,\n",
       "   10254],\n",
       "  10: [10141, 9742, 9912, 9722, 9789, 9806, 9646, 9948, 9741, 9674],\n",
       "  15: [9984, 9275, 9568, 9226, 9030, 9122, 9315, 9157, 9308, 9249],\n",
       "  20: [9821, 9135, 8830, 8852, 8931, 8975, 8911, 8923, 8879, 8900],\n",
       "  25: [9719, 8752, 8613, 8624, 8403, 8672, 8690, 8742, 8492, 8601],\n",
       "  30: [9343, 8557, 8438, 8322, 8532, 8527, 8140, 8531, 8419, 8448],\n",
       "  35: [9370, 8403, 8042, 8018, 8098, 8209, 8258, 8289, 8035, 8168]}}"
      ]
     },
     "execution_count": 4,
     "metadata": {},
     "output_type": "execute_result"
    }
   ],
   "source": [
    "result"
   ]
  },
  {
   "cell_type": "markdown",
   "id": "80bd94cf-4ebb-4dee-be33-0217154ac0c7",
   "metadata": {},
   "source": [
    "#  😯 Save variables"
   ]
  },
  {
   "cell_type": "code",
   "execution_count": 10,
   "id": "d220e472-ed19-4f24-b3cb-d06074574683",
   "metadata": {},
   "outputs": [],
   "source": [
    "if not os.path.exists('result'):\n",
    "    os.mkdir('result')\n",
    "os.chdir('result/')\n",
    "if not os.path.exists('hops'):\n",
    "    os.mkdir('hops')\n",
    "os.chdir('hops')\n",
    "\n",
    "f = open(file_name, 'wb')\n",
    "pickle.dump(result['AS_hops'],f)\n",
    "f.close()\n",
    "\n",
    "os.chdir('../')\n",
    "os.chdir('../')"
   ]
  },
  {
   "cell_type": "markdown",
   "id": "1fc4c703-1980-4877-ba63-66c5aacf1834",
   "metadata": {},
   "source": [
    "# 😋 visualize"
   ]
  },
  {
   "cell_type": "code",
   "execution_count": 5,
   "id": "247f1d64-43ef-4ecb-8570-d045a55b74d4",
   "metadata": {},
   "outputs": [
    {
     "ename": "KeyError",
     "evalue": "'original'",
     "output_type": "error",
     "traceback": [
      "\u001b[0;31m---------------------------------------------------------------------------\u001b[0m",
      "\u001b[0;31mKeyError\u001b[0m                                  Traceback (most recent call last)",
      "\u001b[0;32m<ipython-input-5-4526078c221e>\u001b[0m in \u001b[0;36m<module>\u001b[0;34m\u001b[0m\n\u001b[0;32m----> 1\u001b[0;31m \u001b[0mplt\u001b[0m\u001b[0;34m.\u001b[0m\u001b[0mplot\u001b[0m\u001b[0;34m(\u001b[0m\u001b[0mlist\u001b[0m\u001b[0;34m(\u001b[0m\u001b[0mresult\u001b[0m\u001b[0;34m[\u001b[0m\u001b[0;34m'original'\u001b[0m\u001b[0;34m]\u001b[0m\u001b[0;34m.\u001b[0m\u001b[0mkeys\u001b[0m\u001b[0;34m(\u001b[0m\u001b[0;34m)\u001b[0m\u001b[0;34m)\u001b[0m\u001b[0;34m,\u001b[0m\u001b[0mlist\u001b[0m\u001b[0;34m(\u001b[0m\u001b[0mfloat\u001b[0m\u001b[0;34m(\u001b[0m\u001b[0mmean\u001b[0m\u001b[0;34m(\u001b[0m\u001b[0mresult\u001b[0m\u001b[0;34m[\u001b[0m\u001b[0;34m'original'\u001b[0m\u001b[0;34m]\u001b[0m\u001b[0;34m[\u001b[0m\u001b[0mk\u001b[0m\u001b[0;34m]\u001b[0m\u001b[0;34m[\u001b[0m\u001b[0;36m4\u001b[0m\u001b[0;34m:\u001b[0m\u001b[0;36m8\u001b[0m\u001b[0;34m]\u001b[0m\u001b[0;34m)\u001b[0m\u001b[0;34m/\u001b[0m\u001b[0;36m2000\u001b[0m\u001b[0;34m)\u001b[0m \u001b[0;32mfor\u001b[0m \u001b[0mk\u001b[0m \u001b[0;32min\u001b[0m \u001b[0mresult\u001b[0m\u001b[0;34m[\u001b[0m\u001b[0;34m'original'\u001b[0m\u001b[0;34m]\u001b[0m\u001b[0;34m.\u001b[0m\u001b[0mkeys\u001b[0m\u001b[0;34m(\u001b[0m\u001b[0;34m)\u001b[0m\u001b[0;34m)\u001b[0m\u001b[0;34m,\u001b[0m\u001b[0;34m'b--^'\u001b[0m\u001b[0;34m)\u001b[0m\u001b[0;34m\u001b[0m\u001b[0;34m\u001b[0m\u001b[0m\n\u001b[0m\u001b[1;32m      2\u001b[0m \u001b[0mplt\u001b[0m\u001b[0;34m.\u001b[0m\u001b[0mplot\u001b[0m\u001b[0;34m(\u001b[0m\u001b[0mlist\u001b[0m\u001b[0;34m(\u001b[0m\u001b[0mresult\u001b[0m\u001b[0;34m[\u001b[0m\u001b[0;34m'AS_hops'\u001b[0m\u001b[0;34m]\u001b[0m\u001b[0;34m.\u001b[0m\u001b[0mkeys\u001b[0m\u001b[0;34m(\u001b[0m\u001b[0;34m)\u001b[0m\u001b[0;34m)\u001b[0m\u001b[0;34m,\u001b[0m\u001b[0mlist\u001b[0m\u001b[0;34m(\u001b[0m\u001b[0mfloat\u001b[0m\u001b[0;34m(\u001b[0m\u001b[0mmean\u001b[0m\u001b[0;34m(\u001b[0m\u001b[0mresult\u001b[0m\u001b[0;34m[\u001b[0m\u001b[0;34m'AS_hops'\u001b[0m\u001b[0;34m]\u001b[0m\u001b[0;34m[\u001b[0m\u001b[0mk\u001b[0m\u001b[0;34m]\u001b[0m\u001b[0;34m[\u001b[0m\u001b[0;36m4\u001b[0m\u001b[0;34m:\u001b[0m\u001b[0;36m8\u001b[0m\u001b[0;34m]\u001b[0m\u001b[0;34m)\u001b[0m\u001b[0;34m/\u001b[0m\u001b[0;36m2000\u001b[0m\u001b[0;34m)\u001b[0m \u001b[0;32mfor\u001b[0m \u001b[0mk\u001b[0m \u001b[0;32min\u001b[0m \u001b[0mresult\u001b[0m\u001b[0;34m[\u001b[0m\u001b[0;34m'AS_hops'\u001b[0m\u001b[0;34m]\u001b[0m\u001b[0;34m.\u001b[0m\u001b[0mkeys\u001b[0m\u001b[0;34m(\u001b[0m\u001b[0;34m)\u001b[0m\u001b[0;34m)\u001b[0m\u001b[0;34m,\u001b[0m\u001b[0;34m'g-o'\u001b[0m\u001b[0;34m)\u001b[0m\u001b[0;34m\u001b[0m\u001b[0;34m\u001b[0m\u001b[0m\n\u001b[1;32m      3\u001b[0m \u001b[0mplt\u001b[0m\u001b[0;34m.\u001b[0m\u001b[0mlegend\u001b[0m\u001b[0;34m(\u001b[0m\u001b[0;34m[\u001b[0m\u001b[0;34m'Original'\u001b[0m\u001b[0;34m,\u001b[0m\u001b[0;34m'POP hops'\u001b[0m\u001b[0;34m]\u001b[0m\u001b[0;34m)\u001b[0m\u001b[0;34m\u001b[0m\u001b[0;34m\u001b[0m\u001b[0m\n\u001b[1;32m      4\u001b[0m \u001b[0mplt\u001b[0m\u001b[0;34m.\u001b[0m\u001b[0maxis\u001b[0m\u001b[0;34m(\u001b[0m\u001b[0;34m[\u001b[0m\u001b[0;36m0\u001b[0m\u001b[0;34m,\u001b[0m\u001b[0;36m40\u001b[0m\u001b[0;34m,\u001b[0m\u001b[0;36m0\u001b[0m\u001b[0;34m,\u001b[0m\u001b[0;36m6\u001b[0m\u001b[0;34m]\u001b[0m\u001b[0;34m)\u001b[0m\u001b[0;34m\u001b[0m\u001b[0;34m\u001b[0m\u001b[0m\n\u001b[1;32m      5\u001b[0m \u001b[0mplt\u001b[0m\u001b[0;34m.\u001b[0m\u001b[0mxlabel\u001b[0m\u001b[0;34m(\u001b[0m\u001b[0;34m'Total caching capability(%)'\u001b[0m\u001b[0;34m)\u001b[0m\u001b[0;34m\u001b[0m\u001b[0;34m\u001b[0m\u001b[0m\n",
      "\u001b[0;31mKeyError\u001b[0m: 'original'"
     ]
    }
   ],
   "source": [
    "plt.plot(list(result['original'].keys()),list(float(mean(result['original'][k][4:8])/2000) for k in result['original'].keys()),'b--^')\n",
    "plt.plot(list(result['AS_hops'].keys()),list(float(mean(result['AS_hops'][k][4:8])/2000) for k in result['AS_hops'].keys()),'g-o')\n",
    "plt.legend(['Original','POP hops'])\n",
    "plt.axis([0,40,0,6])\n",
    "plt.xlabel('Total caching capability(%)')\n",
    "plt.ylabel('Average hop Count')\n",
    "plt.grid()"
   ]
  },
  {
   "cell_type": "code",
   "execution_count": 6,
   "id": "9a8e0317-df8d-4d90-b490-9b674228536e",
   "metadata": {},
   "outputs": [
    {
     "data": {
      "image/png": "[encoded data removed]",
      "text/plain": [
       "<Figure size 432x288 with 1 Axes>"
      ]
     },
     "metadata": {
      "needs_background": "light"
     },
     "output_type": "display_data"
    }
   ],
   "source": [
    "plt.plot(list(result['original'].keys()),list(float(mean(result['original'][k][4:8])/2000) for k in result['original'].keys()),'b--^')\n",
    "plt.plot(list(result['AS_hops'].keys()),list(float(mean(result['AS_hops'][k][4:8])/2000) for k in result['AS_hops'].keys()),'g-o')\n",
    "plt.legend(['Original','Intra-AS dynamic POP'])\n",
    "plt.axis([0,40,0,6])\n",
    "plt.title('Average Hop Count')\n",
    "plt.xlabel('Total caching capability(%)')\n",
    "plt.ylabel('Average hop Count')\n",
    "plt.grid()\n",
    "if not os.path.exists('result/'):\n",
    "    os.mkdir('result/')\n",
    "os.chdir('result')\n",
    "plt.savefig('caching_capability_VS_Average_hops.png')\n",
    "os.chdir('../')"
   ]
  },
  {
   "cell_type": "markdown",
   "id": "a7460536-df2b-4d43-af96-acbda2a9bb23",
   "metadata": {},
   "source": [
    "## Others"
   ]
  },
  {
   "cell_type": "code",
   "execution_count": 57,
   "id": "298781c4-5e28-496e-8512-1f7c3201242c",
   "metadata": {},
   "outputs": [],
   "source": [
    "result['result_LCD.pickle'] = {}\n",
    "result['result_LCD.pickle'][5] = temp[5]\n",
    "result['result_LCD.pickle'][10] = temp[10]\n",
    "result['result_LCD.pickle'][15] = temp[15]\n",
    "result['result_LCD.pickle'][20] = temp[20]\n",
    "result['result_LCD.pickle'][25] = temp[25]\n",
    "result['result_LCD.pickle'][20] = temp[30]\n",
    "result['result_LCD.pickle'][35] = temp[35]"
   ]
  },
  {
   "cell_type": "markdown",
   "id": "8194af94-389f-45d1-bb2f-5e82a1fac75a",
   "metadata": {},
   "source": [
    "## 3 Use seaborn with Data analysis"
   ]
  },
  {
   "cell_type": "code",
   "execution_count": 7,
   "id": "9262aa23-affa-4a1a-b2c3-c0edb4d37a2b",
   "metadata": {},
   "outputs": [],
   "source": [
    "import pandas as pd\n",
    "import seaborn as sns"
   ]
  },
  {
   "cell_type": "markdown",
   "id": "26a80a1c-b747-4306-86d8-f1fa3c3dbb69",
   "metadata": {},
   "source": [
    "### Load variables"
   ]
  },
  {
   "cell_type": "code",
   "execution_count": 129,
   "id": "68c48032-00c6-495d-ad67-a47ffe544c5f",
   "metadata": {},
   "outputs": [],
   "source": [
    "result_file = 'result_hops.pickle'\n",
    "if not os.path.exists('result'):\n",
    "    os.mkdir('result')\n",
    "    raise ValueError('no file in result')\n",
    "    exit()\n",
    "os.chdir('result/')\n",
    "f = open(result_file, 'rb')\n",
    "df = pickle.load(f)\n",
    "f.close()\n",
    "os.chdir('..')"
   ]
  },
  {
   "cell_type": "markdown",
   "id": "05001213-1e6d-47b9-9886-9da1ea985a14",
   "metadata": {},
   "source": [
    "## Create Variable from result"
   ]
  },
  {
   "cell_type": "code",
   "execution_count": 131,
   "id": "be6fca1d-389c-4f9f-88d1-ff82e7179b64",
   "metadata": {},
   "outputs": [],
   "source": [
    "df = pd.DataFrame(columns = ['method','Cache Capacity' ,'Overall Hop count'])\n",
    "for method in result.keys():\n",
    "    for r in result[method].keys():\n",
    "        #print({'method':method, 'Cache Capacity':r, 'Average Internal Traffic(requests)': mean(result[method][r][4:8])})\n",
    "        df = df.append({'method':method,'Cache Capacity':r ,'Overall Hop count':mean(result[method][r][8:10])},ignore_index=True)"
   ]
  },
  {
   "cell_type": "code",
   "execution_count": 138,
   "id": "0ea4bf04-a5cd-4a80-8d33-b0f9d59ab769",
   "metadata": {},
   "outputs": [
    {
     "data": {
      "text/html": [
       "<div>\n",
       "<style scoped>\n",
       "    .dataframe tbody tr th:only-of-type {\n",
       "        vertical-align: middle;\n",
       "    }\n",
       "\n",
       "    .dataframe tbody tr th {\n",
       "        vertical-align: top;\n",
       "    }\n",
       "\n",
       "    .dataframe thead th {\n",
       "        text-align: right;\n",
       "    }\n",
       "</style>\n",
       "<table border=\"1\" class=\"dataframe\">\n",
       "  <thead>\n",
       "    <tr style=\"text-align: right;\">\n",
       "      <th></th>\n",
       "      <th>method</th>\n",
       "      <th>Cache Capacity</th>\n",
       "      <th>Overall Hop count</th>\n",
       "      <th>Average Hop Count</th>\n",
       "    </tr>\n",
       "  </thead>\n",
       "  <tbody>\n",
       "    <tr>\n",
       "      <th>0</th>\n",
       "      <td>result_POP.pickle</td>\n",
       "      <td>5</td>\n",
       "      <td>10777.5</td>\n",
       "      <td>5.38875</td>\n",
       "    </tr>\n",
       "    <tr>\n",
       "      <th>1</th>\n",
       "      <td>result_POP.pickle</td>\n",
       "      <td>10</td>\n",
       "      <td>8458.0</td>\n",
       "      <td>4.22900</td>\n",
       "    </tr>\n",
       "    <tr>\n",
       "      <th>2</th>\n",
       "      <td>result_POP.pickle</td>\n",
       "      <td>16</td>\n",
       "      <td>7754.0</td>\n",
       "      <td>3.87700</td>\n",
       "    </tr>\n",
       "    <tr>\n",
       "      <th>3</th>\n",
       "      <td>result_POP.pickle</td>\n",
       "      <td>20</td>\n",
       "      <td>7334.5</td>\n",
       "      <td>3.66725</td>\n",
       "    </tr>\n",
       "    <tr>\n",
       "      <th>4</th>\n",
       "      <td>result_POP.pickle</td>\n",
       "      <td>26</td>\n",
       "      <td>7088.5</td>\n",
       "      <td>3.54425</td>\n",
       "    </tr>\n",
       "    <tr>\n",
       "      <th>5</th>\n",
       "      <td>result_POP.pickle</td>\n",
       "      <td>30</td>\n",
       "      <td>6915.0</td>\n",
       "      <td>3.45750</td>\n",
       "    </tr>\n",
       "    <tr>\n",
       "      <th>6</th>\n",
       "      <td>result_POP.pickle</td>\n",
       "      <td>35</td>\n",
       "      <td>6630.0</td>\n",
       "      <td>3.31500</td>\n",
       "    </tr>\n",
       "    <tr>\n",
       "      <th>7</th>\n",
       "      <td>result_MPC.pickle</td>\n",
       "      <td>5</td>\n",
       "      <td>10472.0</td>\n",
       "      <td>5.23600</td>\n",
       "    </tr>\n",
       "    <tr>\n",
       "      <th>8</th>\n",
       "      <td>result_MPC.pickle</td>\n",
       "      <td>10</td>\n",
       "      <td>9546.5</td>\n",
       "      <td>4.77325</td>\n",
       "    </tr>\n",
       "    <tr>\n",
       "      <th>9</th>\n",
       "      <td>result_MPC.pickle</td>\n",
       "      <td>15</td>\n",
       "      <td>9061.0</td>\n",
       "      <td>4.53050</td>\n",
       "    </tr>\n",
       "    <tr>\n",
       "      <th>10</th>\n",
       "      <td>result_MPC.pickle</td>\n",
       "      <td>20</td>\n",
       "      <td>8679.5</td>\n",
       "      <td>4.33975</td>\n",
       "    </tr>\n",
       "    <tr>\n",
       "      <th>11</th>\n",
       "      <td>result_MPC.pickle</td>\n",
       "      <td>25</td>\n",
       "      <td>8414.5</td>\n",
       "      <td>4.20725</td>\n",
       "    </tr>\n",
       "    <tr>\n",
       "      <th>12</th>\n",
       "      <td>result_MPC.pickle</td>\n",
       "      <td>30</td>\n",
       "      <td>8172.5</td>\n",
       "      <td>4.08625</td>\n",
       "    </tr>\n",
       "    <tr>\n",
       "      <th>13</th>\n",
       "      <td>result_MPC.pickle</td>\n",
       "      <td>35</td>\n",
       "      <td>7815.0</td>\n",
       "      <td>3.90750</td>\n",
       "    </tr>\n",
       "    <tr>\n",
       "      <th>14</th>\n",
       "      <td>result_LCE.pickle</td>\n",
       "      <td>5</td>\n",
       "      <td>11150.5</td>\n",
       "      <td>5.57525</td>\n",
       "    </tr>\n",
       "    <tr>\n",
       "      <th>15</th>\n",
       "      <td>result_LCE.pickle</td>\n",
       "      <td>10</td>\n",
       "      <td>10792.0</td>\n",
       "      <td>5.39600</td>\n",
       "    </tr>\n",
       "    <tr>\n",
       "      <th>16</th>\n",
       "      <td>result_LCE.pickle</td>\n",
       "      <td>15</td>\n",
       "      <td>10332.5</td>\n",
       "      <td>5.16625</td>\n",
       "    </tr>\n",
       "    <tr>\n",
       "      <th>17</th>\n",
       "      <td>result_LCE.pickle</td>\n",
       "      <td>20</td>\n",
       "      <td>10015.5</td>\n",
       "      <td>5.00775</td>\n",
       "    </tr>\n",
       "    <tr>\n",
       "      <th>18</th>\n",
       "      <td>result_LCE.pickle</td>\n",
       "      <td>25</td>\n",
       "      <td>9725.0</td>\n",
       "      <td>4.86250</td>\n",
       "    </tr>\n",
       "    <tr>\n",
       "      <th>19</th>\n",
       "      <td>result_LCE.pickle</td>\n",
       "      <td>30</td>\n",
       "      <td>9737.0</td>\n",
       "      <td>4.86850</td>\n",
       "    </tr>\n",
       "    <tr>\n",
       "      <th>20</th>\n",
       "      <td>result_LCE.pickle</td>\n",
       "      <td>35</td>\n",
       "      <td>9394.0</td>\n",
       "      <td>4.69700</td>\n",
       "    </tr>\n",
       "    <tr>\n",
       "      <th>21</th>\n",
       "      <td>result_LCD.pickle</td>\n",
       "      <td>5</td>\n",
       "      <td>10247.0</td>\n",
       "      <td>5.12350</td>\n",
       "    </tr>\n",
       "    <tr>\n",
       "      <th>22</th>\n",
       "      <td>result_LCD.pickle</td>\n",
       "      <td>10</td>\n",
       "      <td>9707.5</td>\n",
       "      <td>4.85375</td>\n",
       "    </tr>\n",
       "    <tr>\n",
       "      <th>23</th>\n",
       "      <td>result_LCD.pickle</td>\n",
       "      <td>15</td>\n",
       "      <td>9278.5</td>\n",
       "      <td>4.63925</td>\n",
       "    </tr>\n",
       "    <tr>\n",
       "      <th>24</th>\n",
       "      <td>result_LCD.pickle</td>\n",
       "      <td>20</td>\n",
       "      <td>8889.5</td>\n",
       "      <td>4.44475</td>\n",
       "    </tr>\n",
       "    <tr>\n",
       "      <th>25</th>\n",
       "      <td>result_LCD.pickle</td>\n",
       "      <td>25</td>\n",
       "      <td>8546.5</td>\n",
       "      <td>4.27325</td>\n",
       "    </tr>\n",
       "    <tr>\n",
       "      <th>26</th>\n",
       "      <td>result_LCD.pickle</td>\n",
       "      <td>30</td>\n",
       "      <td>8433.5</td>\n",
       "      <td>4.21675</td>\n",
       "    </tr>\n",
       "    <tr>\n",
       "      <th>27</th>\n",
       "      <td>result_LCD.pickle</td>\n",
       "      <td>35</td>\n",
       "      <td>8101.5</td>\n",
       "      <td>4.05075</td>\n",
       "    </tr>\n",
       "  </tbody>\n",
       "</table>\n",
       "</div>"
      ],
      "text/plain": [
       "               method Cache Capacity  Overall Hop count  Average Hop Count\n",
       "0   result_POP.pickle              5            10777.5            5.38875\n",
       "1   result_POP.pickle             10             8458.0            4.22900\n",
       "2   result_POP.pickle             16             7754.0            3.87700\n",
       "3   result_POP.pickle             20             7334.5            3.66725\n",
       "4   result_POP.pickle             26             7088.5            3.54425\n",
       "5   result_POP.pickle             30             6915.0            3.45750\n",
       "6   result_POP.pickle             35             6630.0            3.31500\n",
       "7   result_MPC.pickle              5            10472.0            5.23600\n",
       "8   result_MPC.pickle             10             9546.5            4.77325\n",
       "9   result_MPC.pickle             15             9061.0            4.53050\n",
       "10  result_MPC.pickle             20             8679.5            4.33975\n",
       "11  result_MPC.pickle             25             8414.5            4.20725\n",
       "12  result_MPC.pickle             30             8172.5            4.08625\n",
       "13  result_MPC.pickle             35             7815.0            3.90750\n",
       "14  result_LCE.pickle              5            11150.5            5.57525\n",
       "15  result_LCE.pickle             10            10792.0            5.39600\n",
       "16  result_LCE.pickle             15            10332.5            5.16625\n",
       "17  result_LCE.pickle             20            10015.5            5.00775\n",
       "18  result_LCE.pickle             25             9725.0            4.86250\n",
       "19  result_LCE.pickle             30             9737.0            4.86850\n",
       "20  result_LCE.pickle             35             9394.0            4.69700\n",
       "21  result_LCD.pickle              5            10247.0            5.12350\n",
       "22  result_LCD.pickle             10             9707.5            4.85375\n",
       "23  result_LCD.pickle             15             9278.5            4.63925\n",
       "24  result_LCD.pickle             20             8889.5            4.44475\n",
       "25  result_LCD.pickle             25             8546.5            4.27325\n",
       "26  result_LCD.pickle             30             8433.5            4.21675\n",
       "27  result_LCD.pickle             35             8101.5            4.05075"
      ]
     },
     "execution_count": 138,
     "metadata": {},
     "output_type": "execute_result"
    }
   ],
   "source": [
    "df"
   ]
  },
  {
   "cell_type": "code",
   "execution_count": 134,
   "id": "bba3fa23-c491-4586-ac11-aff25fdfdb6b",
   "metadata": {},
   "outputs": [],
   "source": [
    "df['Average Hop Count'] = df['Overall Hop count']/2000"
   ]
  },
  {
   "cell_type": "code",
   "execution_count": 137,
   "id": "206fcb78-1184-4e1c-8f9b-7983bf6dbfac",
   "metadata": {},
   "outputs": [
    {
     "data": {
      "image/png": "[encoded data removed]",
      "text/plain": [
       "<Figure size 432x288 with 1 Axes>"
      ]
     },
     "metadata": {},
     "output_type": "display_data"
    }
   ],
   "source": [
    "sns.lineplot(x = 'Cache Capacity', y = 'Average Hop Count', hue = 'method',style=\"method\", markers = True, data = df)\n",
    "plt.legend(title='Cache strategy', loc='upper right', labels=['Dynamic inter-AS POP', 'MPC', 'LCE', 'LCD'])\n",
    "#plt.axis([0,40,0,6])\n",
    "#plt.grid()\n",
    "plt.title('Average Hop count VS Cache capacity')\n",
    "#plt.axis([0,8,0,2000])\n",
    "\n",
    "## 保存\n",
    "if not os.path.exists('result/'):\n",
    "    os.mkdir('result/')\n",
    "os.chdir('result')\n",
    "plt.savefig('caching_capability_VS_Average_hops.png')\n",
    "os.chdir('../')"
   ]
  },
  {
   "cell_type": "code",
   "execution_count": 31,
   "id": "f73f5c3c-0337-455f-ad6b-b7e567ebedde",
   "metadata": {},
   "outputs": [],
   "source": [
    "result_file = 'result_hops.pickle'\n",
    "if not os.path.exists('result'):\n",
    "    os.mkdir('result')\n",
    "os.chdir('result/')\n",
    "f = open(result_file, 'wb')\n",
    "pickle.dump(df,f)\n",
    "f.close()\n",
    "os.chdir('..')"
   ]
  },
  {
   "cell_type": "markdown",
   "id": "dafb96bb-f5ba-4838-aee0-5a1bd269c069",
   "metadata": {},
   "source": [
    "## Hops Detail"
   ]
  },
  {
   "cell_type": "markdown",
   "id": "4d9b4c40-b6de-4b43-b962-9923d326e8ca",
   "metadata": {},
   "source": [
    "### Load Variable"
   ]
  },
  {
   "cell_type": "code",
   "execution_count": 46,
   "id": "58e1622e-3ef7-4545-b5cc-be6d68d07bee",
   "metadata": {},
   "outputs": [],
   "source": [
    "result_file = 'result_hops_detail.pickle'\n",
    "if not os.path.exists('result'):\n",
    "    os.mkdir('result')\n",
    "    raise ValueError('no file in result')\n",
    "    exit()\n",
    "os.chdir('result/')\n",
    "f = open(result_file, 'rb')\n",
    "df = pickle.load(f)\n",
    "f.close()\n",
    "os.chdir('..')"
   ]
  },
  {
   "cell_type": "code",
   "execution_count": 126,
   "id": "d81c6fe4-77ef-43ea-8b9e-6b3050b3f1e1",
   "metadata": {},
   "outputs": [
    {
     "data": {
      "image/png": "[encoded data removed]",
      "text/plain": [
       "<Figure size 1120x640 with 2 Axes>"
      ]
     },
     "metadata": {},
     "output_type": "display_data"
    }
   ],
   "source": [
    "fig = plt.figure(figsize=(14, 8), dpi=80)\n",
    "ax1 = fig.add_subplot()\n",
    "sns.histplot(df, x=\"Hops\", hue=\"Cache Strategy\",kde = False, multiple=\"stack\",element=\"step\",linewidth = 1, ax = ax1)\n",
    "ax2 = ax1.twinx()\n",
    "sns.kdeplot(data = df,x = 'Hops', hue = 'Cache Strategy', bw_adjust=2.0,shade = True, ax = ax2)\n",
    "#sns.set(style=\"whitegrid\", font_scale=1)\n",
    "plt.title('Probability Density Curve of Hop Distribution', fontsize=18)\n",
    "plt.grid()\n",
    "## 保存\n",
    "if not os.path.exists('result/'):\n",
    "    os.mkdir('result/')\n",
    "os.chdir('result')\n",
    "plt.savefig('Hop_distribution.png')\n",
    "os.chdir('../')"
   ]
  },
  {
   "cell_type": "code",
   "execution_count": null,
   "id": "faf9ebb6-b7ef-40fc-a453-655ceceee04d",
   "metadata": {},
   "outputs": [],
   "source": [
    "result_file = 'result_hops_detail.pickle'\n",
    "if not os.path.exists('result'):\n",
    "    os.mkdir('result')\n",
    "os.chdir('result/')\n",
    "f = open(result_file, 'wb')\n",
    "pickle.dump(df,f)\n",
    "f.close()\n",
    "os.chdir('..')"
   ]
  }
 ],
 "metadata": {
  "kernelspec": {
   "display_name": "Python 3",
   "language": "python",
   "name": "python3"
  },
  "language_info": {
   "codemirror_mode": {
    "name": "ipython",
    "version": 3
   },
   "file_extension": ".py",
   "mimetype": "text/x-python",
   "name": "python",
   "nbconvert_exporter": "python",
   "pygments_lexer": "ipython3",
   "version": "3.8.8"
  }
 },
 "nbformat": 4,
 "nbformat_minor": 5
}
