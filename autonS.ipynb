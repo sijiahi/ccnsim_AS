{
 "cells": [
  {
   "cell_type": "code",
   "execution_count": 8,
   "id": "0b2be9d6-435e-4a0f-a267-bdffc38549d9",
   "metadata": {},
   "outputs": [],
   "source": [
    "from uhashring import HashRing"
   ]
  },
  {
   "cell_type": "code",
   "execution_count": 9,
   "id": "654a192a-057f-43fd-b2a1-636ba8bebe10",
   "metadata": {},
   "outputs": [],
   "source": [
    "class AutonomousSystem:\n",
    "    def __init__(self, nodes = []):\n",
    "        self.nodes = nodes\n",
    "        self.hash_ring = HashRing(nodes, hash_fn='ketama')\n",
    "    def add_node(self,node: str):\n",
    "        self.nodes.append(node)\n",
    "        self.hash_ring.add_node(node)\n",
    "    def remove_node(self,node:str):\n",
    "        if node in self.nodes:\n",
    "            self.nodes.remove(node)\n",
    "            self.hash_ring.add_node(node)\n",
    "            \n",
    "    def print_nodes():\n",
    "        return self.nodes()\n",
    "    def get_nodes(self):\n",
    "        return self.nodes\n",
    "    def get_node(self,content_name: str):\n",
    "        if len(self.nodes)!= 0:\n",
    "            return self.hash_ring.get_node(content_name)\n",
    "        else:\n",
    "            return None\n",
    "# get the node name for the 'coconut' key\n",
    "#target_node = hr.get_node('coconut')"
   ]
  },
  {
   "cell_type": "code",
   "execution_count": 5,
   "id": "a3281280-9cd7-415e-a9c6-53f77e60bef5",
   "metadata": {},
   "outputs": [
    {
     "data": {
      "text/plain": [
       "'node2'"
      ]
     },
     "execution_count": 5,
     "metadata": {},
     "output_type": "execute_result"
    }
   ],
   "source": [
    "#target_node"
   ]
  },
  {
   "cell_type": "code",
   "execution_count": null,
   "id": "2349fd85-44ff-4199-953e-ee7ee9e77bc8",
   "metadata": {},
   "outputs": [],
   "source": []
  }
 ],
 "metadata": {
  "kernelspec": {
   "display_name": "Python 3",
   "language": "python",
   "name": "python3"
  },
  "language_info": {
   "codemirror_mode": {
    "name": "ipython",
    "version": 3
   },
   "file_extension": ".py",
   "mimetype": "text/x-python",
   "name": "python",
   "nbconvert_exporter": "python",
   "pygments_lexer": "ipython3",
   "version": "3.8.8"
  }
 },
 "nbformat": 4,
 "nbformat_minor": 5
}
